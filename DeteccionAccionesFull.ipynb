{
 "cells": [
  {
   "cell_type": "markdown",
   "metadata": {},
   "source": [
    "# Importar Librerias"
   ]
  },
  {
   "cell_type": "code",
   "execution_count": null,
   "metadata": {},
   "outputs": [],
   "source": [
    "import cv2 #pip install opencv-python\n",
    "import numpy as np\n",
    "import os\n",
    "from matplotlib import pyplot as plt\n",
    "import time\n",
    "import mediapipe as mp #pip install mediapipe\n",
    "import tensorflow as tf"
   ]
  },
  {
   "cell_type": "markdown",
   "metadata": {},
   "source": [
    "# Obtencion de \"Landmarks\" con MediaPipe"
   ]
  },
  {
   "cell_type": "code",
   "execution_count": null,
   "metadata": {},
   "outputs": [],
   "source": [
    "mp_holistic = mp.solutions.holistic # Modelo de MediaPipe (Holistic model)\n",
    "mp_drawing = mp.solutions.drawing_utils # Utilidades para dibujar"
   ]
  },
  {
   "cell_type": "code",
   "execution_count": null,
   "metadata": {},
   "outputs": [],
   "source": [
    "def mediapipe_detection(image, model):\n",
    "    image = cv2.cvtColor(image, cv2.COLOR_BGR2RGB) # Transformar imagen en BGR desde OpenCV a RGB para MediaPipe\n",
    "    image.flags.writeable = False                  \n",
    "    results = model.process(image)                 # Predecir \"landmarks\" con modelo\n",
    "    image.flags.writeable = True                   \n",
    "    image = cv2.cvtColor(image, cv2.COLOR_RGB2BGR) # Transformar de vuelta a BGR\n",
    "    return image, results"
   ]
  },
  {
   "cell_type": "code",
   "execution_count": null,
   "metadata": {},
   "outputs": [],
   "source": [
    "def draw_styled_landmarks(image, results):\n",
    "    # Dibujar landmarks y conexiones sobre image\n",
    "    # Para cara\n",
    "    mp_drawing.draw_landmarks(image, results.face_landmarks, mp_holistic.FACEMESH_TESSELATION, \n",
    "                             mp_drawing.DrawingSpec(color=(80,110,10), thickness=1, circle_radius=1), \n",
    "                             mp_drawing.DrawingSpec(color=(80,256,121), thickness=1, circle_radius=1)\n",
    "                             ) \n",
    "    # Para Pose\n",
    "    mp_drawing.draw_landmarks(image, results.pose_landmarks, mp_holistic.POSE_CONNECTIONS,\n",
    "                             mp_drawing.DrawingSpec(color=(80,22,10), thickness=2, circle_radius=4), \n",
    "                             mp_drawing.DrawingSpec(color=(80,44,121), thickness=2, circle_radius=2)\n",
    "                             ) \n",
    "    # Para mano izquierda\n",
    "    mp_drawing.draw_landmarks(image, results.left_hand_landmarks, mp_holistic.HAND_CONNECTIONS, \n",
    "                             mp_drawing.DrawingSpec(color=(121,22,76), thickness=2, circle_radius=4), \n",
    "                             mp_drawing.DrawingSpec(color=(121,44,250), thickness=2, circle_radius=2)\n",
    "                             ) \n",
    "    # Para mano derecha\n",
    "    mp_drawing.draw_landmarks(image, results.right_hand_landmarks, mp_holistic.HAND_CONNECTIONS, \n",
    "                             mp_drawing.DrawingSpec(color=(245,117,66), thickness=2, circle_radius=4), \n",
    "                             mp_drawing.DrawingSpec(color=(245,66,230), thickness=2, circle_radius=2)\n",
    "                             ) "
   ]
  },
  {
   "cell_type": "markdown",
   "metadata": {},
   "source": [
    "# Extracción/Creación de vector de features"
   ]
  },
  {
   "cell_type": "code",
   "execution_count": null,
   "metadata": {},
   "outputs": [],
   "source": [
    "def extract_keypoints(results):\n",
    "    # Results contiene 4 grupos de \"landmarks\": Face, Pose, Left Hand y Right Hand\n",
    "    # Cada landmark contiene x,y,z y las poses ademas visibility\n",
    "    # Face contiene 468 landmarks\n",
    "    # Pose contiene 33 landmarks\n",
    "    # Right hand contiene 21 landmarks\n",
    "    # Left hand contiene 21 landmarks\n",
    "    pose = np.array([[res.x, res.y, res.z, res.visibility] for res in results.pose_landmarks.landmark]).flatten() if results.pose_landmarks else np.zeros(33*4)\n",
    "    face = np.array([[res.x, res.y, res.z] for res in results.face_landmarks.landmark]).flatten() if results.face_landmarks else np.zeros(468*3)\n",
    "    lh = np.array([[res.x, res.y, res.z] for res in results.left_hand_landmarks.landmark]).flatten() if results.left_hand_landmarks else np.zeros(21*3)\n",
    "    rh = np.array([[res.x, res.y, res.z] for res in results.right_hand_landmarks.landmark]).flatten() if results.right_hand_landmarks else np.zeros(21*3)\n",
    "    return np.concatenate([pose, face, lh, rh])"
   ]
  },
  {
   "cell_type": "markdown",
   "metadata": {},
   "source": [
    "# Creación de carpetas para recolección de data"
   ]
  },
  {
   "cell_type": "code",
   "execution_count": null,
   "metadata": {},
   "outputs": [],
   "source": [
    "# Path para data\n",
    "DATA_PATH = os.path.join('MP_Data') \n",
    "\n",
    "#Acciones/Gestos\n",
    "actions = np.array(['Counting', 'Waving', 'Bye'])\n",
    "\n",
    "# Cantidad de videos por gesto\n",
    "no_sequences = 30\n",
    "\n",
    "# Numero de frames por video\n",
    "sequence_length = 40"
   ]
  },
  {
   "cell_type": "code",
   "execution_count": null,
   "metadata": {},
   "outputs": [],
   "source": [
    "# Crear una carpeta por accion/gesto\n",
    "# Dentro de cada acción no_sequences carpetas, uno para cada video\n",
    "for action in actions: \n",
    "    for sequence in range(no_sequences):\n",
    "        try: \n",
    "            os.makedirs(os.path.join(DATA_PATH, action, str(sequence)))\n",
    "        except:\n",
    "            pass"
   ]
  },
  {
   "cell_type": "markdown",
   "metadata": {},
   "source": [
    "# Recolección de data"
   ]
  },
  {
   "cell_type": "code",
   "execution_count": null,
   "metadata": {},
   "outputs": [],
   "source": [
    "cap = cv2.VideoCapture(0)\n",
    "# Declarar modelo MediaPipe\n",
    "with mp_holistic.Holistic(min_detection_confidence=0.5, min_tracking_confidence=0.5) as holistic:\n",
    "    \n",
    "    # Por cada accion\n",
    "    for action in actions:\n",
    "        # Por cada secuencia/video\n",
    "        for sequence in range(no_sequences):\n",
    "            # Por cada frame en video\n",
    "            for frame_num in range(sequence_length):\n",
    "\n",
    "                # Leer frame\n",
    "                ret, frame = cap.read()\n",
    "\n",
    "                # Obtener \"landmarks\" con MediaPipe\n",
    "                image, results = mediapipe_detection(frame, holistic)\n",
    "\n",
    "                # Dibujar \"landmarks\"\n",
    "                draw_styled_landmarks(image, results)\n",
    "                \n",
    "                # Lógica para hacer break entre cada video\n",
    "                if frame_num == 0: \n",
    "                    cv2.putText(image, 'STARTING COLLECTION', (120,200), \n",
    "                    cv2.FONT_HERSHEY_SIMPLEX, 1, (0,255, 0), 4, cv2.LINE_AA)\n",
    "                    cv2.putText(image, 'Collecting frames for {} Video Number {}'.format(action, sequence), (15,12), \n",
    "                               cv2.FONT_HERSHEY_SIMPLEX, 0.5, (0, 0, 255), 1, cv2.LINE_AA)\n",
    "                    cv2.imshow('OpenCV Feed', image)\n",
    "                    cv2.waitKey(2000)\n",
    "                else: \n",
    "                    cv2.putText(image, 'Collecting frames for {} Video Number {}'.format(action, sequence), (15,12), \n",
    "                               cv2.FONT_HERSHEY_SIMPLEX, 0.5, (0, 0, 255), 1, cv2.LINE_AA)\n",
    "                    cv2.imshow('OpenCV Feed', image)\n",
    "                \n",
    "                # Obtener features a partir de \"landmarks\" del frame\n",
    "                keypoints = extract_keypoints(results)\n",
    "                # Path para guardar features\n",
    "                npy_path = os.path.join(DATA_PATH, action, str(sequence), str(frame_num))\n",
    "                # Guardarmunpy array\n",
    "                np.save(npy_path, keypoints)\n",
    "\n",
    "                # Break grabación presionando \"q\"\n",
    "                if cv2.waitKey(10) & 0xFF == ord('q'):\n",
    "                    break\n",
    "    \n",
    "    #Cerrar camara                \n",
    "    cap.release()\n",
    "    cv2.destroyAllWindows()"
   ]
  },
  {
   "cell_type": "markdown",
   "metadata": {},
   "source": [
    "# Creación de Dataset"
   ]
  },
  {
   "cell_type": "code",
   "execution_count": null,
   "metadata": {},
   "outputs": [],
   "source": [
    "from sklearn.model_selection import train_test_split\n",
    "from tensorflow.keras.utils import to_categorical"
   ]
  },
  {
   "cell_type": "code",
   "execution_count": null,
   "metadata": {},
   "outputs": [],
   "source": [
    "# Mapa de acciones/gestos\n",
    "label_map = {label:num for num, label in enumerate(actions)}"
   ]
  },
  {
   "cell_type": "code",
   "execution_count": null,
   "metadata": {},
   "outputs": [],
   "source": [
    "# Se extrajo todos los landmarks para problema general, pero se necesitan solo landmarks de mano derecha aquí\n",
    "def extract_right_hand(sequence):\n",
    "    return sequence[-21*3:]"
   ]
  },
  {
   "cell_type": "code",
   "execution_count": null,
   "metadata": {},
   "outputs": [],
   "source": [
    "sequences, labels = [], []\n",
    "#Por cada accion\n",
    "for action in actions:\n",
    "    # Por cada video\n",
    "    for sequence in range(no_sequences):\n",
    "        # Array para video actual\n",
    "        window = []\n",
    "        # Por cada frame\n",
    "        for frame_num in range(sequence_length):\n",
    "            # Cargar array numpy guardado \n",
    "            res = np.load(os.path.join(DATA_PATH, action, str(sequence), \"{}.npy\".format(frame_num)))\n",
    "            # Agregar a array de video (extracción de landmarks de mano derecha)\n",
    "            window.append(extract_right_hand(res))\n",
    "        # Agregar array de video a array general (Se juntan todos los videos)\n",
    "        sequences.append(window)\n",
    "        # Agregar label a array de labels\n",
    "        labels.append(label_map[action])"
   ]
  },
  {
   "cell_type": "code",
   "execution_count": null,
   "metadata": {},
   "outputs": [],
   "source": [
    "# Pasar python array a numpy array\n",
    "X = np.array(sequences)"
   ]
  },
  {
   "cell_type": "code",
   "execution_count": null,
   "metadata": {},
   "outputs": [],
   "source": [
    "# Encode labels en formato One-Hot\n",
    "y = to_categorical(labels).astype(int)"
   ]
  },
  {
   "cell_type": "code",
   "execution_count": null,
   "metadata": {},
   "outputs": [],
   "source": [
    "# Separar en conjunto de entrenamiento y de test\n",
    "X_train, X_test, y_train, y_test = train_test_split(X, y, test_size=0.05)"
   ]
  },
  {
   "cell_type": "markdown",
   "metadata": {},
   "source": [
    "# Creación y entrenamiento de red LSTM"
   ]
  },
  {
   "cell_type": "code",
   "execution_count": null,
   "metadata": {},
   "outputs": [],
   "source": [
    "from tensorflow.keras.models import Sequential\n",
    "from tensorflow.keras.layers import LSTM, Dense\n",
    "from tensorflow.keras.callbacks import TensorBoard"
   ]
  },
  {
   "cell_type": "code",
   "execution_count": null,
   "metadata": {},
   "outputs": [],
   "source": [
    "#Callback para ver entrenamiento en dashboard de TensorBoard\n",
    "log_dir = os.path.join('Logs')\n",
    "tb_callback = TensorBoard(log_dir=log_dir)"
   ]
  },
  {
   "cell_type": "code",
   "execution_count": null,
   "metadata": {},
   "outputs": [],
   "source": [
    "# Definición de modelo con 3 redes LSTM y dos capas fully connected\n",
    "# Salida on activación softmax para clasificación\n",
    "model = Sequential()\n",
    "model.add(LSTM(64, return_sequences=True, activation='relu', input_shape=(40,21*3)))\n",
    "model.add(LSTM(128, return_sequences=True, activation='relu'))\n",
    "model.add(LSTM(64, return_sequences=False, activation='relu'))\n",
    "model.add(Dense(64, activation='relu'))\n",
    "model.add(Dense(32, activation='relu'))\n",
    "model.add(Dense(actions.shape[0], activation='softmax'))"
   ]
  },
  {
   "cell_type": "code",
   "execution_count": null,
   "metadata": {},
   "outputs": [],
   "source": [
    "# Optimizador Adam, función de loss Categorical Crossentropy\n",
    "model.compile(optimizer='Adam', loss='categorical_crossentropy', metrics=['categorical_accuracy'])"
   ]
  },
  {
   "cell_type": "code",
   "execution_count": null,
   "metadata": {},
   "outputs": [],
   "source": [
    "# Entrenar el modelo\n",
    "model.fit(X_train, y_train, epochs=200, callbacks=[tb_callback])"
   ]
  },
  {
   "cell_type": "code",
   "execution_count": null,
   "metadata": {},
   "outputs": [],
   "source": [
    "model.summary()"
   ]
  },
  {
   "cell_type": "code",
   "execution_count": null,
   "metadata": {},
   "outputs": [],
   "source": [
    "#model.save('detector_gestos.h5')\n",
    "model.load_weights('detector_gestos.h5')"
   ]
  },
  {
   "cell_type": "markdown",
   "metadata": {},
   "source": [
    "# Cálculo de Accuracy en conjunto de Test"
   ]
  },
  {
   "cell_type": "code",
   "execution_count": null,
   "metadata": {},
   "outputs": [],
   "source": [
    "from sklearn.metrics import accuracy_score"
   ]
  },
  {
   "cell_type": "code",
   "execution_count": null,
   "metadata": {},
   "outputs": [],
   "source": [
    "yhat = model.predict(X_test)"
   ]
  },
  {
   "cell_type": "code",
   "execution_count": null,
   "metadata": {},
   "outputs": [],
   "source": [
    "# Uso de argmax para extraer label entre los tres gestos (y_test está en One-Hot y yhat está como salida de softmax)\n",
    "ytrue = np.argmax(y_test, axis=1).tolist()\n",
    "yhat = np.argmax(yhat, axis=1).tolist()"
   ]
  },
  {
   "cell_type": "code",
   "execution_count": null,
   "metadata": {},
   "outputs": [],
   "source": [
    "accuracy_score(ytrue, yhat)"
   ]
  },
  {
   "cell_type": "markdown",
   "metadata": {},
   "source": [
    "# Implementación en tiempo real"
   ]
  },
  {
   "cell_type": "code",
   "execution_count": null,
   "metadata": {},
   "outputs": [],
   "source": [
    "# Funcion para dibujar barras de probabilidad de detección entre gestos, se actualiza frame a frame\n",
    "colors = [(245,117,16), (117,245,16), (16,117,245)]\n",
    "def prob_viz(res, actions, input_frame, colors):\n",
    "    # res es la salida sofmax del modelo\n",
    "    output_frame = input_frame.copy()\n",
    "    # Itera por accion/gesto\n",
    "    for num, prob in enumerate(res):\n",
    "        # Dibujar barra sobre image\n",
    "        cv2.rectangle(output_frame, (0,60+num*40), (int(prob*100), 90+num*40), colors[num], -1)\n",
    "        # Escribir label sobre barra\n",
    "        cv2.putText(output_frame, actions[num], (0, 85+num*40), cv2.FONT_HERSHEY_SIMPLEX, 1, (255,255,255), 2, cv2.LINE_AA)\n",
    "        \n",
    "    return output_frame"
   ]
  },
  {
   "cell_type": "code",
   "execution_count": null,
   "metadata": {},
   "outputs": [],
   "source": [
    "sequence = [] # Array de features frame a frame\n",
    "sentence = [] # Array de detecciones validadas (Filtro sobre array predictions)\n",
    "predictions = [] # Array de detecciones frame a frame\n",
    "threshold = 0.8 # Umbral de detección\n",
    "\n",
    "stability_frames = 15 #15 frames con mismo gesto para validar\n",
    "\n",
    "#Abrir camara\n",
    "cap = cv2.VideoCapture(0)\n",
    "# Declarar modelo MediaPipe \n",
    "with mp_holistic.Holistic(min_detection_confidence=0.5, min_tracking_confidence=0.5) as holistic:\n",
    "    while cap.isOpened():\n",
    "\n",
    "        # Obtener frame\n",
    "        ret, frame = cap.read()\n",
    "\n",
    "        # Obtener \"landmarks\" desde frame\n",
    "        image, results = mediapipe_detection(frame, holistic)\n",
    "                \n",
    "        # Dibujar landmarks en imagen\n",
    "        draw_styled_landmarks(image, results)\n",
    "        \n",
    "        # Extracción de vector de features\n",
    "        keypoints = extract_keypoints(results)\n",
    "        # Extracción solo de landmarks de mano derecha\n",
    "        keypoints = extract_right_hand(keypoints)\n",
    "        sequence.append(keypoints)\n",
    "        # Recortar array sequence para que calce con entrada de modelo\n",
    "        sequence = sequence[-sequence_length:]\n",
    "        \n",
    "        if len(sequence) == sequence_length:\n",
    "            # Realizar predicción con modelo\n",
    "            res = model.predict(np.expand_dims(sequence, axis=0))[0]\n",
    "            # Agregar gesto detectado a array predictions\n",
    "            predictions.append(np.argmax(res))\n",
    "                        \n",
    "            \n",
    "            # Si los últimos stability_frames detectan mismo gesto\n",
    "            if np.unique(predictions[-stability_frames:])[0]==np.argmax(res): \n",
    "                # Si probabilidad supera umbral\n",
    "                if res[np.argmax(res)] > threshold: \n",
    "                    if len(sentence) > 0: \n",
    "                        # Si gesto es distinto al último validado\n",
    "                        if actions[np.argmax(res)] != sentence[-1]:\n",
    "                            # Agregar a array sentence de gestos validados\n",
    "                            sentence.append(actions[np.argmax(res)])\n",
    "                    else:\n",
    "                        # Caso primer gesto\n",
    "                        sentence.append(actions[np.argmax(res)])\n",
    "\n",
    "            # Mostrar solo último 5 gestos validados en pantalla           \n",
    "            if len(sentence) > 5: \n",
    "                sentence = sentence[-5:]\n",
    "\n",
    "            # Mostar barras de probbilidades actual\n",
    "            image = prob_viz(res, actions, image, colors)\n",
    "        \n",
    "        # Escribir gestos validados en parte superior de la pantalla\n",
    "        cv2.rectangle(image, (0,0), (640, 40), (245, 117, 16), -1)\n",
    "        cv2.putText(image, ' '.join(sentence), (3,30), \n",
    "                       cv2.FONT_HERSHEY_SIMPLEX, 1, (255, 255, 255), 2, cv2.LINE_AA)\n",
    "        \n",
    "        # Mostrar imagen modificada con \"landmarks\", barras de probabilidad y gestos detectos sobre\n",
    "        cv2.imshow('OpenCV Feed', image)\n",
    "\n",
    "        # Cerrar apretando \"q\"\n",
    "        if cv2.waitKey(10) & 0xFF == ord('q'):\n",
    "            break\n",
    "    cap.release()\n",
    "    cv2.destroyAllWindows()"
   ]
  }
 ],
 "metadata": {
  "kernelspec": {
   "display_name": "Python 3 (ipykernel)",
   "language": "python",
   "name": "python3"
  },
  "language_info": {
   "codemirror_mode": {
    "name": "ipython",
    "version": 3
   },
   "file_extension": ".py",
   "mimetype": "text/x-python",
   "name": "python",
   "nbconvert_exporter": "python",
   "pygments_lexer": "ipython3",
   "version": "3.11.4"
  }
 },
 "nbformat": 4,
 "nbformat_minor": 4
}
